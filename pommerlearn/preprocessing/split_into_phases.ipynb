{
 "cells": [
  {
   "cell_type": "markdown",
   "metadata": {},
   "source": [
    "Settings"
   ]
  },
  {
   "cell_type": "code",
   "execution_count": 1,
   "metadata": {},
   "outputs": [
    {
     "name": "stderr",
     "output_type": "stream",
     "text": [
      "/opt/miniconda3/envs/pommer/lib/python3.7/site-packages/tqdm/auto.py:21: TqdmWarning: IProgress not found. Please update jupyter and ipywidgets. See https://ipywidgets.readthedocs.io/en/stable/user_install.html\n",
      "  from .autonotebook import tqdm as notebook_tqdm\n"
     ]
    },
    {
     "name": "stdout",
     "output_type": "stream",
     "text": [
      "Import error GL! You will not be able to render --> Library \"GL\" not found.\n"
     ]
    }
   ],
   "source": [
    "import zarr\n",
    "import numpy as np\n",
    "from dataset_util import get_value_target\n",
    "from training.train_cnn import fill_default_config\n",
    "from preprocessing.game_phase_detector import *\n",
    "\n",
    "\n",
    "read_path = \"/PommerLearn/data/samples/raw/1M_sample_0.zr\"\n",
    "write_path = \"/PommerLearn/data/samples/steps/1M_sample_0\"\n"
   ]
  },
  {
   "cell_type": "code",
   "execution_count": 2,
   "metadata": {},
   "outputs": [],
   "source": [
    "z = zarr.open(read_path)\n",
    "\n",
    "chunks = z['act'].chunks"
   ]
  },
  {
   "cell_type": "markdown",
   "metadata": {},
   "source": [
    "Generate Values"
   ]
  },
  {
   "cell_type": "code",
   "execution_count": 3,
   "metadata": {},
   "outputs": [],
   "source": [
    "train_config = fill_default_config({\n",
    "    \"device\":1,\n",
    "})\n",
    "\n",
    "val_target = get_value_target(\n",
    "    z,\n",
    "    discount_factor=train_config[\"discount_factor\"], \n",
    "    mcts_val_weight=train_config[\"mcts_val_weight\"]\n",
    "    )\n",
    "assert val_target.shape == z['val'].shape, \"Shapes do not line up\"\n",
    "\n",
    "z['val']= val_target\n"
   ]
  },
  {
   "cell_type": "markdown",
   "metadata": {},
   "source": [
    "Add phase Vector"
   ]
  },
  {
   "cell_type": "code",
   "execution_count": 4,
   "metadata": {},
   "outputs": [
    {
     "name": "stderr",
     "output_type": "stream",
     "text": [
      "100%|██████████| 1000000/1000000 [00:09<00:00, 102454.32it/s]\n"
     ]
    }
   ],
   "source": [
    "\n",
    "\n",
    "get_phase_vector(z, phase_definition=\"steps\")"
   ]
  },
  {
   "cell_type": "markdown",
   "metadata": {},
   "source": [
    "Split into three seperate zarrs"
   ]
  },
  {
   "cell_type": "code",
   "execution_count": 5,
   "metadata": {},
   "outputs": [
    {
     "name": "stdout",
     "output_type": "stream",
     "text": [
      "Phase 0 has 252543 items\n",
      "Phase 1 has 747457 items\n"
     ]
    }
   ],
   "source": [
    "act = z['act'][:]\n",
    "obs = z['obs'][:]\n",
    "phase = z['phase'][:]\n",
    "pol = z['pol'][:]\n",
    "q = z['q'][:]\n",
    "val = z['val'][:]\n",
    "\n",
    "for i in range(2):\n",
    "    mask = phase == i\n",
    "\n",
    "    act_temp = act[mask]\n",
    "    obs_temp = obs[mask]\n",
    "    phase_temp = phase[mask]\n",
    "    pol_temp = pol[mask]\n",
    "    q_temp = q[mask]\n",
    "    val_temp = val[mask]\n",
    "\n",
    "    new_zarr = zarr.open(write_path+'_phase_'+str(i)+'.zr', mode='w')\n",
    "    new_zarr.create_dataset(\"act\", data=act_temp, chunks=chunks)\n",
    "    new_zarr.create_dataset(\"obs\", data=obs_temp, chunks=chunks)\n",
    "    new_zarr.create_dataset(\"phase\", data=phase_temp, chunks=chunks)\n",
    "    new_zarr.create_dataset(\"pol\", data=pol_temp, chunks=chunks)\n",
    "    new_zarr.create_dataset(\"q\", data=q_temp, chunks=chunks)\n",
    "    new_zarr.create_dataset(\"val\", data=val_temp, chunks=chunks)\n",
    "\n",
    "    new_zarr.attrs['Steps'] = act.shape[0]\n",
    "    new_zarr.attrs['AgentSteps'] = z.attrs['AgentSteps']\n",
    "    new_zarr.attrs['EpisodeSteps'] = z.attrs['EpisodeSteps']\n",
    "    new_zarr.attrs['AgentIds'] = z.attrs['AgentIds']\n",
    "    new_zarr.attrs['AgentEpisode'] = z.attrs['AgentEpisode']\n",
    "    new_zarr.attrs['EpisodeDead'] = z.attrs['EpisodeDead']\n",
    "    new_zarr.attrs['EpisodeWinner'] = z.attrs['EpisodeWinner']\n",
    "    new_zarr.attrs['EpisodeGameMode'] = z.attrs['EpisodeGameMode']\n",
    "    new_zarr.attrs['EpisodeDraw'] = z.attrs['EpisodeDraw']\n",
    "    new_zarr.attrs['EpisodeWinningTeam'] = z.attrs['EpisodeWinningTeam']\n",
    "    new_zarr.attrs['EpisodeDone'] = z.attrs['EpisodeDone']\n",
    "    new_zarr.attrs['EpisodeActions'] = z.attrs['EpisodeActions']\n",
    "\n",
    "\n",
    "    print(\"Phase {} has {} items\".format(i, act.shape[0])  )\n"
   ]
  }
 ],
 "metadata": {
  "kernelspec": {
   "display_name": "pommer",
   "language": "python",
   "name": "python3"
  },
  "language_info": {
   "codemirror_mode": {
    "name": "ipython",
    "version": 3
   },
   "file_extension": ".py",
   "mimetype": "text/x-python",
   "name": "python",
   "nbconvert_exporter": "python",
   "pygments_lexer": "ipython3",
   "version": "3.7.12"
  }
 },
 "nbformat": 4,
 "nbformat_minor": 2
}
