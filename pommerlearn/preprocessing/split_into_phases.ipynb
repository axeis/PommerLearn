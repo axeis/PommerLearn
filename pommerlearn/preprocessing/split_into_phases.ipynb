{
 "cells": [
  {
   "cell_type": "markdown",
   "metadata": {},
   "source": [
    "Settings"
   ]
  },
  {
   "cell_type": "code",
   "execution_count": 96,
   "metadata": {},
   "outputs": [],
   "source": [
    "import zarr\n",
    "import ipytree\n",
    "import numpy as np\n",
    "\n",
    "\n",
    "read_path = \"/PommerLearn/1M_simple_1.zr\"\n",
    "write_path = \"/PommerLearn/1M_simple_1\"\n"
   ]
  },
  {
   "cell_type": "code",
   "execution_count": 97,
   "metadata": {},
   "outputs": [],
   "source": [
    "z = zarr.open(read_path, mode='r')\n",
    "z.tree()\n",
    "\n",
    "chunks = z['act'].chunks"
   ]
  },
  {
   "cell_type": "code",
   "execution_count": 98,
   "metadata": {},
   "outputs": [
    {
     "data": {
      "text/plain": [
       "dict_keys(['AgentEpisode', 'AgentIds', 'AgentSteps', 'EpisodeActions', 'EpisodeDead', 'EpisodeDone', 'EpisodeDraw', 'EpisodeGameMode', 'EpisodeInitialState', 'EpisodeSteps', 'EpisodeWinner', 'EpisodeWinningTeam', 'Steps'])"
      ]
     },
     "execution_count": 98,
     "metadata": {},
     "output_type": "execute_result"
    }
   ],
   "source": [
    "z.attrs.keys()"
   ]
  },
  {
   "cell_type": "code",
   "execution_count": 99,
   "metadata": {},
   "outputs": [
    {
     "name": "stdout",
     "output_type": "stream",
     "text": [
      "Phase 0 has 819180 items\n",
      "Phase 1 has 103017 items\n",
      "Phase 2 has 77803 items\n"
     ]
    }
   ],
   "source": [
    "for i in range(3):\n",
    "    act = z['act'][:]\n",
    "    obs = z['obs'][:]\n",
    "    phase = z['phase'][:]\n",
    "    pol = z['pol'][:]\n",
    "    q = z['q'][:]\n",
    "    val = z['val'][:]\n",
    "\n",
    "    mask = phase == i\n",
    "\n",
    "    act = act[mask]\n",
    "    obs = obs[mask]\n",
    "    phase = phase[mask]\n",
    "    pol = pol[mask]\n",
    "    q = q[mask]\n",
    "    val = val[mask]\n",
    "\n",
    "    new_zarr = zarr.open(write_path+'_phase_'+str(i)+'.zr', mode='w')\n",
    "    new_zarr.create_dataset(\"act\", data=act, chunks=chunks)\n",
    "    new_zarr.create_dataset(\"obs\", data=obs, chunks=chunks)\n",
    "    new_zarr.create_dataset(\"phase\", data=phase, chunks=chunks)\n",
    "    new_zarr.create_dataset(\"pol\", data=pol, chunks=chunks)\n",
    "    new_zarr.create_dataset(\"q\", data=q, chunks=chunks)\n",
    "    new_zarr.create_dataset(\"val\", data=val, chunks=chunks)\n",
    "\n",
    "    new_zarr.attrs['Steps'] = act.shape[0]\n",
    "    new_zarr.attrs['AgentSteps'] = z.attrs['AgentSteps']\n",
    "    new_zarr.attrs['EpisodeSteps'] = z.attrs['EpisodeSteps']\n",
    "    new_zarr.attrs['AgentIds'] = z.attrs['AgentIds']\n",
    "    new_zarr.attrs['AgentEpisode'] = z.attrs['AgentEpisode']\n",
    "    new_zarr.attrs['EpisodeDead'] = z.attrs['EpisodeDead']\n",
    "    new_zarr.attrs['EpisodeWinner'] = z.attrs['EpisodeWinner']\n",
    "    new_zarr.attrs['EpisodeGameMode'] = z.attrs['EpisodeGameMode']\n",
    "    new_zarr.attrs['EpisodeDraw'] = z.attrs['EpisodeDraw']\n",
    "    new_zarr.attrs['EpisodeWinningTeam'] = z.attrs['EpisodeWinningTeam']\n",
    "    new_zarr.attrs['EpisodeDone'] = z.attrs['EpisodeDone']\n",
    "    new_zarr.attrs['EpisodeActions'] = z.attrs['EpisodeActions']\n",
    "\n",
    "\n",
    "    print(\"Phase {} has {} items\".format(i, act.shape[0])  )\n"
   ]
  }
 ],
 "metadata": {
  "kernelspec": {
   "display_name": "pommer",
   "language": "python",
   "name": "python3"
  },
  "language_info": {
   "codemirror_mode": {
    "name": "ipython",
    "version": 3
   },
   "file_extension": ".py",
   "mimetype": "text/x-python",
   "name": "python",
   "nbconvert_exporter": "python",
   "pygments_lexer": "ipython3",
   "version": "3.7.12"
  }
 },
 "nbformat": 4,
 "nbformat_minor": 2
}
